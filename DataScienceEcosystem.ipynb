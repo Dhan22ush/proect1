{
 "cells": [
  {
   "cell_type": "markdown",
   "id": "8116ae3d-299b-4180-b130-6307ffb1a714",
   "metadata": {},
   "source": [
    "# Data science tools and ecosystems"
   ]
  },
  {
   "cell_type": "markdown",
   "id": "5c74297d-0a0c-41e4-8c25-9a612ff9ad43",
   "metadata": {
    "tags": []
   },
   "source": [
    "#### In this notebook Data Science Tools and Ecosystems are summarized"
   ]
  },
  {
   "cell_type": "markdown",
   "id": "f4ce6815-0665-409a-a226-759c65195dbf",
   "metadata": {
    "tags": []
   },
   "source": [
    "##### Objectives:\n",
    "- List popular Data Science Languages\n",
    "- List commonly used Libraries\n",
    "- Evaluating arithmetic expressions\n",
    "- Converting hours to minutes"
   ]
  },
  {
   "cell_type": "markdown",
   "id": "4acff4fe-a13e-401f-8de1-58b4041b0d13",
   "metadata": {},
   "source": [
    "Some of the most Popular Data science Languages are:\n",
    "1) Python\n",
    "2) R\n",
    "3) julia\n",
    "4) SQL"
   ]
  },
  {
   "cell_type": "markdown",
   "id": "b1411911-d77f-4223-afd5-19481608c623",
   "metadata": {},
   "source": [
    "Some of the most commonly used libraries are:\n",
    "1) Numpy\n",
    "2) Pandas\n",
    "3) Matplotlib\n",
    "4) Seaborn\n"
   ]
  },
  {
   "cell_type": "markdown",
   "id": "08c026ac-7968-4f89-a313-81083f9c53d0",
   "metadata": {
    "tags": []
   },
   "source": [
    "| Data Science Tools | \n",
    "|---|\n",
    "| Jupyter notebooks | \n",
    "| Pytorch | \n",
    "| Rstudio | \n"
   ]
  },
  {
   "cell_type": "markdown",
   "id": "0965c494-baf1-4159-989b-ececea9b7286",
   "metadata": {},
   "source": [
    "### Below are a few examples of evaluating arithmetic expressions in Python"
   ]
  },
  {
   "cell_type": "code",
   "execution_count": 6,
   "id": "786aeeaf-b203-4217-b2dd-c117fae4a8a8",
   "metadata": {
    "tags": []
   },
   "outputs": [
    {
     "name": "stdout",
     "output_type": "stream",
     "text": [
      "17\n"
     ]
    }
   ],
   "source": [
    "# This a simple arithmetic expression to mutiply then add integers\n",
    "a = (3*4)+5\n",
    "print(a)"
   ]
  },
  {
   "cell_type": "code",
   "execution_count": 10,
   "id": "439caa7d-a5b7-4ad2-b78a-b14f378108ff",
   "metadata": {
    "tags": []
   },
   "outputs": [
    {
     "name": "stdout",
     "output_type": "stream",
     "text": [
      "3\n"
     ]
    }
   ],
   "source": [
    "# This will convert 200 minutes to hours by diving by 60\n",
    "minutes= 200\n",
    "minutes_to_hours= minutes//60\n",
    "print(minutes_to_hours)"
   ]
  },
  {
   "cell_type": "markdown",
   "id": "70ab1853-c5f9-4719-86c4-c8566bcb766b",
   "metadata": {
    "tags": []
   },
   "source": [
    "## Author\n",
    "Dhanush"
   ]
  },
  {
   "cell_type": "code",
   "execution_count": null,
   "id": "73ee2e5e-dc67-4682-8057-c2a3f9baf2b9",
   "metadata": {},
   "outputs": [],
   "source": []
  }
 ],
 "metadata": {
  "kernelspec": {
   "display_name": "Python",
   "language": "python",
   "name": "conda-env-python-py"
  },
  "language_info": {
   "codemirror_mode": {
    "name": "ipython",
    "version": 3
   },
   "file_extension": ".py",
   "mimetype": "text/x-python",
   "name": "python",
   "nbconvert_exporter": "python",
   "pygments_lexer": "ipython3",
   "version": "3.7.12"
  }
 },
 "nbformat": 4,
 "nbformat_minor": 5
}
